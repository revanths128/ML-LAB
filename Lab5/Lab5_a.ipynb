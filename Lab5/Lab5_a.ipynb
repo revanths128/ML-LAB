{
  "nbformat": 4,
  "nbformat_minor": 0,
  "metadata": {
    "colab": {
      "name": "Lab5-a.ipynb",
      "provenance": []
    },
    "kernelspec": {
      "name": "python3",
      "display_name": "Python 3"
    },
    "language_info": {
      "name": "python"
    }
  },
  "cells": [
    {
      "cell_type": "code",
      "metadata": {
        "colab": {
          "base_uri": "https://localhost:8080/"
        },
        "id": "rvLkSBmAtzA7",
        "outputId": "7743dea0-1215-4e03-db3c-3e15dfb9a576"
      },
      "source": [
        "from google.colab import drive\n",
        "drive.mount('//content/drive')\n"
      ],
      "execution_count": null,
      "outputs": [
        {
          "output_type": "stream",
          "text": [
            "Mounted at //content/drive\n"
          ],
          "name": "stdout"
        }
      ]
    },
    {
      "cell_type": "code",
      "metadata": {
        "colab": {
          "base_uri": "https://localhost:8080/"
        },
        "id": "zlvRsEczusGH",
        "outputId": "b5aaccec-468b-4641-c379-cf6e463b65a4"
      },
      "source": [
        "!pip install pgmpy"
      ],
      "execution_count": null,
      "outputs": [
        {
          "output_type": "stream",
          "text": [
            "Collecting pgmpy\n",
            "\u001b[?25l  Downloading https://files.pythonhosted.org/packages/a3/0e/d9fadbfaa35e010c04d43acd3ae9fbefec98897dd7d61a6b7eb5a8b34072/pgmpy-0.1.14-py3-none-any.whl (331kB)\n",
            "\r\u001b[K     |█                               | 10kB 12.1MB/s eta 0:00:01\r\u001b[K     |██                              | 20kB 17.4MB/s eta 0:00:01\r\u001b[K     |███                             | 30kB 20.5MB/s eta 0:00:01\r\u001b[K     |████                            | 40kB 22.9MB/s eta 0:00:01\r\u001b[K     |█████                           | 51kB 25.5MB/s eta 0:00:01\r\u001b[K     |██████                          | 61kB 17.9MB/s eta 0:00:01\r\u001b[K     |███████                         | 71kB 19.0MB/s eta 0:00:01\r\u001b[K     |████████                        | 81kB 16.2MB/s eta 0:00:01\r\u001b[K     |█████████                       | 92kB 17.1MB/s eta 0:00:01\r\u001b[K     |█████████▉                      | 102kB 14.9MB/s eta 0:00:01\r\u001b[K     |██████████▉                     | 112kB 14.9MB/s eta 0:00:01\r\u001b[K     |███████████▉                    | 122kB 14.9MB/s eta 0:00:01\r\u001b[K     |████████████▉                   | 133kB 14.9MB/s eta 0:00:01\r\u001b[K     |█████████████▉                  | 143kB 14.9MB/s eta 0:00:01\r\u001b[K     |██████████████▉                 | 153kB 14.9MB/s eta 0:00:01\r\u001b[K     |███████████████▉                | 163kB 14.9MB/s eta 0:00:01\r\u001b[K     |████████████████▉               | 174kB 14.9MB/s eta 0:00:01\r\u001b[K     |█████████████████▉              | 184kB 14.9MB/s eta 0:00:01\r\u001b[K     |██████████████████▉             | 194kB 14.9MB/s eta 0:00:01\r\u001b[K     |███████████████████▊            | 204kB 14.9MB/s eta 0:00:01\r\u001b[K     |████████████████████▊           | 215kB 14.9MB/s eta 0:00:01\r\u001b[K     |█████████████████████▊          | 225kB 14.9MB/s eta 0:00:01\r\u001b[K     |██████████████████████▊         | 235kB 14.9MB/s eta 0:00:01\r\u001b[K     |███████████████████████▊        | 245kB 14.9MB/s eta 0:00:01\r\u001b[K     |████████████████████████▊       | 256kB 14.9MB/s eta 0:00:01\r\u001b[K     |█████████████████████████▊      | 266kB 14.9MB/s eta 0:00:01\r\u001b[K     |██████████████████████████▊     | 276kB 14.9MB/s eta 0:00:01\r\u001b[K     |███████████████████████████▊    | 286kB 14.9MB/s eta 0:00:01\r\u001b[K     |████████████████████████████▊   | 296kB 14.9MB/s eta 0:00:01\r\u001b[K     |█████████████████████████████▋  | 307kB 14.9MB/s eta 0:00:01\r\u001b[K     |██████████████████████████████▋ | 317kB 14.9MB/s eta 0:00:01\r\u001b[K     |███████████████████████████████▋| 327kB 14.9MB/s eta 0:00:01\r\u001b[K     |████████████████████████████████| 337kB 14.9MB/s \n",
            "\u001b[?25hRequirement already satisfied: tqdm in /usr/local/lib/python3.7/dist-packages (from pgmpy) (4.41.1)\n",
            "Requirement already satisfied: pandas in /usr/local/lib/python3.7/dist-packages (from pgmpy) (1.1.5)\n",
            "Requirement already satisfied: networkx in /usr/local/lib/python3.7/dist-packages (from pgmpy) (2.5.1)\n",
            "Requirement already satisfied: statsmodels in /usr/local/lib/python3.7/dist-packages (from pgmpy) (0.10.2)\n",
            "Requirement already satisfied: joblib in /usr/local/lib/python3.7/dist-packages (from pgmpy) (1.0.1)\n",
            "Requirement already satisfied: scipy in /usr/local/lib/python3.7/dist-packages (from pgmpy) (1.4.1)\n",
            "Requirement already satisfied: torch in /usr/local/lib/python3.7/dist-packages (from pgmpy) (1.8.1+cu101)\n",
            "Requirement already satisfied: pyparsing in /usr/local/lib/python3.7/dist-packages (from pgmpy) (2.4.7)\n",
            "Requirement already satisfied: numpy in /usr/local/lib/python3.7/dist-packages (from pgmpy) (1.19.5)\n",
            "Requirement already satisfied: scikit-learn in /usr/local/lib/python3.7/dist-packages (from pgmpy) (0.22.2.post1)\n",
            "Requirement already satisfied: python-dateutil>=2.7.3 in /usr/local/lib/python3.7/dist-packages (from pandas->pgmpy) (2.8.1)\n",
            "Requirement already satisfied: pytz>=2017.2 in /usr/local/lib/python3.7/dist-packages (from pandas->pgmpy) (2018.9)\n",
            "Requirement already satisfied: decorator<5,>=4.3 in /usr/local/lib/python3.7/dist-packages (from networkx->pgmpy) (4.4.2)\n",
            "Requirement already satisfied: patsy>=0.4.0 in /usr/local/lib/python3.7/dist-packages (from statsmodels->pgmpy) (0.5.1)\n",
            "Requirement already satisfied: typing-extensions in /usr/local/lib/python3.7/dist-packages (from torch->pgmpy) (3.7.4.3)\n",
            "Requirement already satisfied: six>=1.5 in /usr/local/lib/python3.7/dist-packages (from python-dateutil>=2.7.3->pandas->pgmpy) (1.15.0)\n",
            "Installing collected packages: pgmpy\n",
            "Successfully installed pgmpy-0.1.14\n"
          ],
          "name": "stdout"
        }
      ]
    },
    {
      "cell_type": "code",
      "metadata": {
        "colab": {
          "base_uri": "https://localhost:8080/"
        },
        "id": "FVXA_E_Suw9r",
        "outputId": "b0d68676-0ccb-43ab-e021-31a4968a4076"
      },
      "source": [
        "import numpy as np\n",
        "import pandas as pd\n",
        "import csv \n",
        "from pgmpy.estimators import MaximumLikelihoodEstimator\n",
        "from pgmpy.models import BayesianModel\n",
        "from pgmpy.inference import VariableElimination"
      ],
      "execution_count": null,
      "outputs": [
        {
          "output_type": "stream",
          "text": [
            "/usr/local/lib/python3.7/dist-packages/statsmodels/tools/_testing.py:19: FutureWarning: pandas.util.testing is deprecated. Use the functions in the public API at pandas.testing instead.\n",
            "  import pandas.util.testing as tm\n"
          ],
          "name": "stderr"
        }
      ]
    },
    {
      "cell_type": "code",
      "metadata": {
        "id": "cgKQGEaOu01w"
      },
      "source": [
        "#read Cleveland Heart Disease data\n",
        "heartDisease = pd.read_csv('/content/drive/MyDrive/heart.csv')\n",
        "heartDisease = heartDisease.replace('?',np.nan)"
      ],
      "execution_count": null,
      "outputs": []
    },
    {
      "cell_type": "code",
      "metadata": {
        "colab": {
          "base_uri": "https://localhost:8080/"
        },
        "id": "do3rxH2ru9S1",
        "outputId": "3c86d9ee-7073-45b0-bfbd-816cfc6f7330"
      },
      "source": [
        "#display the data\n",
        "print('Sample instances from the dataset are given below')\n",
        "print(heartDisease.head())"
      ],
      "execution_count": null,
      "outputs": [
        {
          "output_type": "stream",
          "text": [
            "Sample instances from the dataset are given below\n",
            "   age  sex  cp  trestbps  chol  ...  oldpeak  slope  ca  thal  heartdisease\n",
            "0   63    1   1       145   233  ...      2.3      3   0     6             0\n",
            "1   67    1   4       160   286  ...      1.5      2   3     3             2\n",
            "2   67    1   4       120   229  ...      2.6      2   2     7             1\n",
            "3   37    1   3       130   250  ...      3.5      3   0     3             0\n",
            "4   41    0   2       130   204  ...      1.4      1   0     3             0\n",
            "\n",
            "[5 rows x 14 columns]\n"
          ],
          "name": "stdout"
        }
      ]
    },
    {
      "cell_type": "code",
      "metadata": {
        "colab": {
          "base_uri": "https://localhost:8080/"
        },
        "id": "oc8EZ7TzvJ3B",
        "outputId": "beb97e94-c2dd-437b-ef78-e5edff92c5d1"
      },
      "source": [
        "#display the Attributes names and datatyes\n",
        "print('\\n Attributes and datatypes')\n",
        "print(heartDisease.dtypes)"
      ],
      "execution_count": null,
      "outputs": [
        {
          "output_type": "stream",
          "text": [
            "\n",
            " Attributes and datatypes\n",
            "age               int64\n",
            "sex               int64\n",
            "cp                int64\n",
            "trestbps          int64\n",
            "chol              int64\n",
            "fbs               int64\n",
            "restecg           int64\n",
            "thalach           int64\n",
            "exang             int64\n",
            "oldpeak         float64\n",
            "slope             int64\n",
            "ca               object\n",
            "thal             object\n",
            "heartdisease      int64\n",
            "dtype: object\n"
          ],
          "name": "stdout"
        }
      ]
    },
    {
      "cell_type": "code",
      "metadata": {
        "id": "HU2npStWvKqq"
      },
      "source": [
        "#Creat Model-Bayesian Network \n",
        "model =  BayesianModel([('age','heartdisease'),('sex','heartdisease'),('exang','heartdisease'),('cp','heartdisease'),('heartdisease','restecg'),('heartdisease','chol')])"
      ],
      "execution_count": null,
      "outputs": []
    },
    {
      "cell_type": "code",
      "metadata": {
        "colab": {
          "base_uri": "https://localhost:8080/"
        },
        "id": "r9AB2OiVvRg-",
        "outputId": "ea9293ee-aa1d-4bfd-871c-4ed684dfc127"
      },
      "source": [
        "#Learning CPDs using Maximum Likelihood Estimators\n",
        "print('\\n Learning CPD using Maximum likelihood estimators')\n",
        "model.fit(heartDisease,estimator=MaximumLikelihoodEstimator)"
      ],
      "execution_count": null,
      "outputs": [
        {
          "output_type": "stream",
          "text": [
            "\n",
            " Learning CPD using Maximum likelihood estimators\n"
          ],
          "name": "stdout"
        }
      ]
    },
    {
      "cell_type": "code",
      "metadata": {
        "colab": {
          "base_uri": "https://localhost:8080/"
        },
        "id": "6CRQRdx4vU1F",
        "outputId": "26e2578f-74a4-443c-9436-752189608f9d"
      },
      "source": [
        "#Inferencing with Bayesian Network\n",
        "print('\\n Inferencing with Bayesian Network:')\n",
        "HeartDiseasetest_infer = VariableElimination(model)"
      ],
      "execution_count": null,
      "outputs": [
        {
          "output_type": "stream",
          "text": [
            "\n",
            " Inferencing with Bayesian Network:\n"
          ],
          "name": "stdout"
        }
      ]
    },
    {
      "cell_type": "code",
      "metadata": {
        "id": "1aGGlsBhvXRj"
      },
      "source": [
        "#computing the Probability of HeartDisease given restecg\n",
        "print('\\n 1.Probability of HeartDisease given evidence= restecg :1')\n",
        "q1=HeartDiseasetest_infer.query(variables=['heartdisease'],evidence={'restecg':1})\n",
        "print(q1)"
      ],
      "execution_count": null,
      "outputs": []
    },
    {
      "cell_type": "code",
      "metadata": {
        "colab": {
          "base_uri": "https://localhost:8080/"
        },
        "id": "Hp_M5BiyvaeW",
        "outputId": "2956b209-c0b2-47dc-f1bb-ac7870a60303"
      },
      "source": [
        "#computing the Probability of HeartDisease given cp\n",
        "print('\\n 2.Probability of HeartDisease given evidence= cp:2 ')\n",
        "q2=HeartDiseasetest_infer.query(variables=['heartdisease'],evidence={'cp':2})\n",
        "print(q2)"
      ],
      "execution_count": null,
      "outputs": [
        {
          "output_type": "stream",
          "text": [
            "Finding Elimination Order: : 100%|██████████| 5/5 [00:00<00:00, 353.19it/s]\n",
            "Eliminating: exang: 100%|██████████| 5/5 [00:00<00:00, 233.17it/s]"
          ],
          "name": "stderr"
        },
        {
          "output_type": "stream",
          "text": [
            "\n",
            " 2.Probability of HeartDisease given evidence= cp:2 \n",
            "+-----------------+---------------------+\n",
            "| heartdisease    |   phi(heartdisease) |\n",
            "+=================+=====================+\n",
            "| heartdisease(0) |              0.3610 |\n",
            "+-----------------+---------------------+\n",
            "| heartdisease(1) |              0.2159 |\n",
            "+-----------------+---------------------+\n",
            "| heartdisease(2) |              0.1373 |\n",
            "+-----------------+---------------------+\n",
            "| heartdisease(3) |              0.1537 |\n",
            "+-----------------+---------------------+\n",
            "| heartdisease(4) |              0.1321 |\n",
            "+-----------------+---------------------+\n"
          ],
          "name": "stdout"
        },
        {
          "output_type": "stream",
          "text": [
            "\n"
          ],
          "name": "stderr"
        }
      ]
    }
  ]
}