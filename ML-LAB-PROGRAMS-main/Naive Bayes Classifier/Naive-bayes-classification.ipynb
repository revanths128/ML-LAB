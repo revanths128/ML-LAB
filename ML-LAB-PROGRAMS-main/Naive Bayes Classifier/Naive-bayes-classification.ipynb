{
 "cells": [
  {
   "cell_type": "code",
   "execution_count": 1,
   "id": "2670b3f8",
   "metadata": {},
   "outputs": [],
   "source": [
    "import numpy as np\n",
    "import pandas as pd\n",
    "from sklearn import preprocessing\n",
    "from sklearn.naive_bayes import MultinomialNB"
   ]
  },
  {
   "cell_type": "code",
   "execution_count": 4,
   "id": "e666954d",
   "metadata": {},
   "outputs": [],
   "source": [
    "le=preprocessing.LabelEncoder()\n",
    "clf = MultinomialNB()\n",
    "data=pd.read_csv('data2.csv')"
   ]
  },
  {
   "cell_type": "code",
   "execution_count": 17,
   "id": "2ebc0602",
   "metadata": {},
   "outputs": [
    {
     "data": {
      "text/plain": [
       "['Outlook', 'Temperature', 'Humidity', 'Wind']"
      ]
     },
     "execution_count": 17,
     "metadata": {},
     "output_type": "execute_result"
    }
   ],
   "source": [
    "features=[feat for feat in data]\n",
    "targetLabel=features[-1]\n",
    "features.remove(features[-1])\n",
    "features"
   ]
  },
  {
   "cell_type": "code",
   "execution_count": 6,
   "id": "0c061cc8",
   "metadata": {},
   "outputs": [
    {
     "data": {
      "text/plain": [
       "['sunny',\n",
       " 'overcast',\n",
       " 'rain',\n",
       " 'hot',\n",
       " 'mild',\n",
       " 'cool',\n",
       " 'high',\n",
       " 'normal',\n",
       " 'weak',\n",
       " 'strong']"
      ]
     },
     "execution_count": 6,
     "metadata": {},
     "output_type": "execute_result"
    }
   ],
   "source": [
    "diff_values=[]\n",
    "for f in features:\n",
    "    for v in data[f]:\n",
    "        if v not in diff_values:\n",
    "            diff_values.append(v)\n",
    "\n",
    "diff_values"
   ]
  },
  {
   "cell_type": "code",
   "execution_count": 7,
   "id": "504814d4",
   "metadata": {},
   "outputs": [
    {
     "data": {
      "text/plain": [
       "array([['sunny', 'hot', 'high', 'weak'],\n",
       "       ['sunny', 'hot', 'high', 'strong'],\n",
       "       ['overcast', 'hot', 'high', 'weak'],\n",
       "       ['rain', 'mild', 'high', 'weak'],\n",
       "       ['rain', 'cool', 'normal', 'weak'],\n",
       "       ['rain', 'cool', 'normal', 'strong'],\n",
       "       ['overcast', 'cool', 'normal', 'strong'],\n",
       "       ['sunny', 'mild', 'high', 'weak'],\n",
       "       ['sunny', 'cool', 'normal', 'weak'],\n",
       "       ['rain', 'mild', 'normal', 'weak'],\n",
       "       ['sunny', 'mild', 'normal', 'strong'],\n",
       "       ['overcast', 'mild', 'high', 'strong'],\n",
       "       ['overcast', 'hot', 'normal', 'weak'],\n",
       "       ['rain', 'mild', 'high', 'strong']], dtype=object)"
      ]
     },
     "execution_count": 7,
     "metadata": {},
     "output_type": "execute_result"
    }
   ],
   "source": [
    "dataArray=np.array(data.iloc[:,0:-1])\n",
    "dataArray"
   ]
  },
  {
   "cell_type": "code",
   "execution_count": 8,
   "id": "5b3f5789",
   "metadata": {},
   "outputs": [
    {
     "data": {
      "text/plain": [
       "['cool',\n",
       " 'high',\n",
       " 'hot',\n",
       " 'mild',\n",
       " 'normal',\n",
       " 'overcast',\n",
       " 'rain',\n",
       " 'strong',\n",
       " 'sunny',\n",
       " 'weak']"
      ]
     },
     "execution_count": 8,
     "metadata": {},
     "output_type": "execute_result"
    }
   ],
   "source": [
    "le.fit(diff_values)\n",
    "list(le.classes_)"
   ]
  },
  {
   "cell_type": "code",
   "execution_count": 9,
   "id": "6183033c",
   "metadata": {},
   "outputs": [
    {
     "data": {
      "text/plain": [
       "[array([8, 2, 1, 9]),\n",
       " array([8, 2, 1, 7]),\n",
       " array([5, 2, 1, 9]),\n",
       " array([6, 3, 1, 9]),\n",
       " array([6, 0, 4, 9]),\n",
       " array([6, 0, 4, 7]),\n",
       " array([5, 0, 4, 7]),\n",
       " array([8, 3, 1, 9]),\n",
       " array([8, 0, 4, 9]),\n",
       " array([6, 3, 4, 9]),\n",
       " array([8, 3, 4, 7]),\n",
       " array([5, 3, 1, 7]),\n",
       " array([5, 2, 4, 9]),\n",
       " array([6, 3, 1, 7])]"
      ]
     },
     "execution_count": 9,
     "metadata": {},
     "output_type": "execute_result"
    }
   ],
   "source": [
    "trans=[]\n",
    "for d in dataArray:\n",
    "    trans.append(le.transform(d))\n",
    "trans"
   ]
  },
  {
   "cell_type": "code",
   "execution_count": 18,
   "id": "a443052a",
   "metadata": {},
   "outputs": [
    {
     "data": {
      "text/plain": [
       "0      no\n",
       "1      no\n",
       "2     yes\n",
       "3     yes\n",
       "4     yes\n",
       "5      no\n",
       "6     yes\n",
       "7      no\n",
       "8     yes\n",
       "9     yes\n",
       "10    yes\n",
       "11    yes\n",
       "12    yes\n",
       "13     no\n",
       "Name: Answer, dtype: object"
      ]
     },
     "execution_count": 18,
     "metadata": {},
     "output_type": "execute_result"
    }
   ],
   "source": [
    "target=data[targetLabel]\n",
    "target"
   ]
  },
  {
   "cell_type": "code",
   "execution_count": 19,
   "id": "3816bff0",
   "metadata": {},
   "outputs": [
    {
     "data": {
      "text/plain": [
       "[0, 0, 1, 1, 1, 0, 1, 0, 1, 1, 1, 1, 1, 0]"
      ]
     },
     "execution_count": 19,
     "metadata": {},
     "output_type": "execute_result"
    }
   ],
   "source": [
    "target=np.array(target)\n",
    "tar=[]\n",
    "for t in target:\n",
    "    if t == \"yes\":\n",
    "        tar.append(1)\n",
    "    else:\n",
    "        tar.append(0)\n",
    "tar"
   ]
  },
  {
   "cell_type": "code",
   "execution_count": 20,
   "id": "9f9dd34f",
   "metadata": {},
   "outputs": [
    {
     "data": {
      "text/plain": [
       "MultinomialNB()"
      ]
     },
     "execution_count": 20,
     "metadata": {},
     "output_type": "execute_result"
    }
   ],
   "source": [
    "clf.fit(trans,tar)"
   ]
  },
  {
   "cell_type": "code",
   "execution_count": 21,
   "id": "60852a39",
   "metadata": {},
   "outputs": [],
   "source": [
    "predicting=[\"sunny\",\"cool\",\"high\",\"strong\"]\n",
    "pre_array=le.transform(predicting)"
   ]
  },
  {
   "cell_type": "code",
   "execution_count": 23,
   "id": "e1fe523b",
   "metadata": {},
   "outputs": [
    {
     "data": {
      "text/plain": [
       "array([[8, 0, 1, 7]])"
      ]
     },
     "execution_count": 23,
     "metadata": {},
     "output_type": "execute_result"
    }
   ],
   "source": [
    "pre_array=np.reshape(pre_array,(1,4))\n",
    "pre_array"
   ]
  },
  {
   "cell_type": "code",
   "execution_count": 24,
   "id": "804b1b91",
   "metadata": {},
   "outputs": [
    {
     "name": "stdout",
     "output_type": "stream",
     "text": [
      "[0]\n"
     ]
    }
   ],
   "source": [
    "print(clf.predict(pre_array))"
   ]
  },
  {
   "cell_type": "code",
   "execution_count": null,
   "id": "db81e8a8",
   "metadata": {},
   "outputs": [],
   "source": []
  }
 ],
 "metadata": {
  "kernelspec": {
   "display_name": "Python 3 (ipykernel)",
   "language": "python",
   "name": "python3"
  },
  "language_info": {
   "codemirror_mode": {
    "name": "ipython",
    "version": 3
   },
   "file_extension": ".py",
   "mimetype": "text/x-python",
   "name": "python",
   "nbconvert_exporter": "python",
   "pygments_lexer": "ipython3",
   "version": "3.8.10"
  }
 },
 "nbformat": 4,
 "nbformat_minor": 5
}
