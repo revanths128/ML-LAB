{
 "cells": [
  {
   "cell_type": "code",
   "execution_count": 2,
   "id": "356f7558",
   "metadata": {},
   "outputs": [
    {
     "ename": "ModuleNotFoundError",
     "evalue": "No module named 'treelib'",
     "output_type": "error",
     "traceback": [
      "\u001b[1;31m---------------------------------------------------------------------------\u001b[0m",
      "\u001b[1;31mModuleNotFoundError\u001b[0m                       Traceback (most recent call last)",
      "\u001b[1;32m~\\AppData\\Local\\Temp/ipykernel_620/3358973434.py\u001b[0m in \u001b[0;36m<module>\u001b[1;34m\u001b[0m\n\u001b[1;32m----> 1\u001b[1;33m \u001b[1;32mfrom\u001b[0m \u001b[0mtreelib\u001b[0m \u001b[1;32mimport\u001b[0m \u001b[0mNode\u001b[0m\u001b[1;33m,\u001b[0m \u001b[0mTree\u001b[0m\u001b[1;33m\u001b[0m\u001b[1;33m\u001b[0m\u001b[0m\n\u001b[0m\u001b[0;32m      2\u001b[0m \u001b[1;33m\u001b[0m\u001b[0m\n\u001b[0;32m      3\u001b[0m \u001b[0mtree\u001b[0m \u001b[1;33m=\u001b[0m \u001b[0mTree\u001b[0m\u001b[1;33m(\u001b[0m\u001b[1;33m)\u001b[0m\u001b[1;33m\u001b[0m\u001b[1;33m\u001b[0m\u001b[0m\n\u001b[0;32m      4\u001b[0m \u001b[1;33m\u001b[0m\u001b[0m\n\u001b[0;32m      5\u001b[0m \u001b[0mtree\u001b[0m\u001b[1;33m.\u001b[0m\u001b[0mcreate_node\u001b[0m\u001b[1;33m(\u001b[0m\u001b[1;34m\"Harry\"\u001b[0m\u001b[1;33m,\u001b[0m \u001b[1;34m\"harry\"\u001b[0m\u001b[1;33m)\u001b[0m  \u001b[1;31m# No parent means its the root node\u001b[0m\u001b[1;33m\u001b[0m\u001b[1;33m\u001b[0m\u001b[0m\n",
      "\u001b[1;31mModuleNotFoundError\u001b[0m: No module named 'treelib'"
     ]
    }
   ],
   "source": [
    "from treelib import Node, Tree\n",
    "\n",
    "tree = Tree()\n",
    "\n",
    "tree.create_node(\"Harry\", \"harry\")  # No parent means its the root node\n",
    "tree.create_node(\"Jane\",  \"jane\"   , parent=\"harry\")\n",
    "tree.create_node(\"Bill\",  \"bill\"   , parent=\"harry\")\n",
    "tree.create_node(\"Diane\", \"diane\"  , parent=\"jane\")\n",
    "tree.create_node(\"Mary\",  \"mary\"   , parent=\"diane\")\n",
    "tree.create_node(\"Mark\",  \"mark\"   , parent=\"jane\")\n",
    "\n",
    "tree.show()"
   ]
  },
  {
   "cell_type": "code",
   "execution_count": 3,
   "id": "9d382014",
   "metadata": {},
   "outputs": [],
   "source": [
    "c=2\n"
   ]
  },
  {
   "cell_type": "code",
   "execution_count": 4,
   "id": "f4af0535",
   "metadata": {},
   "outputs": [
    {
     "data": {
      "text/plain": [
       "2"
      ]
     },
     "execution_count": 4,
     "metadata": {},
     "output_type": "execute_result"
    }
   ],
   "source": [
    "c"
   ]
  },
  {
   "cell_type": "code",
   "execution_count": 5,
   "id": "9d52544e",
   "metadata": {},
   "outputs": [
    {
     "name": "stdout",
     "output_type": "stream",
     "text": [
      "Collecting treelib\n",
      "  Downloading treelib-1.6.1.tar.gz (24 kB)\n",
      "Requirement already satisfied: future in c:\\programdata\\anaconda3\\lib\\site-packages (from treelib) (0.18.2)\n",
      "Building wheels for collected packages: treelib\n",
      "  Building wheel for treelib (setup.py): started\n",
      "  Building wheel for treelib (setup.py): finished with status 'done'\n",
      "  Created wheel for treelib: filename=treelib-1.6.1-py3-none-any.whl size=18386 sha256=a0dd4d5bba993fb75428cdbcd5f8e55e4d5ec64651030472e32aeebd02bf27d4\n",
      "  Stored in directory: c:\\users\\admin\\appdata\\local\\pip\\cache\\wheels\\43\\de\\32\\fd270cc5f06de2bebcdaa666e9350b95f54d983212a7aba9ad\n",
      "Successfully built treelib\n",
      "Installing collected packages: treelib\n",
      "Successfully installed treelib-1.6.1\n"
     ]
    }
   ],
   "source": [
    "! pip install treelib"
   ]
  },
  {
   "cell_type": "code",
   "execution_count": 6,
   "id": "711755bb",
   "metadata": {},
   "outputs": [],
   "source": [
    "from treelib import Node, Tree"
   ]
  },
  {
   "cell_type": "code",
   "execution_count": 7,
   "id": "4b6dabc7",
   "metadata": {
    "scrolled": true
   },
   "outputs": [
    {
     "name": "stdout",
     "output_type": "stream",
     "text": [
      "Harry\n",
      "├── Bill\n",
      "└── Jane\n",
      "    ├── Diane\n",
      "    │   └── Mary\n",
      "    └── Mark\n",
      "\n"
     ]
    }
   ],
   "source": [
    "tree = Tree()\n",
    "\n",
    "tree.create_node(\"Harry\", \"harry\")  # No parent means its the root node\n",
    "tree.create_node(\"Jane\",  \"jane\"   , parent=\"harry\")\n",
    "tree.create_node(\"Bill\",  \"bill\"   , parent=\"harry\")\n",
    "tree.create_node(\"Diane\", \"diane\"  , parent=\"jane\")\n",
    "tree.create_node(\"Mary\",  \"mary\"   , parent=\"diane\")\n",
    "tree.create_node(\"Mark\",  \"mark\"   , parent=\"jane\")\n",
    "\n",
    "tree.show()"
   ]
  },
  {
   "cell_type": "code",
   "execution_count": 8,
   "id": "78670795",
   "metadata": {},
   "outputs": [
    {
     "name": "stdout",
     "output_type": "stream",
     "text": [
      "digraph tree {\n",
      "\t\"harry\" [label=\"Harry\", shape=circle]\n",
      "\t\"bill\" [label=\"Bill\", shape=circle]\n",
      "\t\"jane\" [label=\"Jane\", shape=circle]\n",
      "\t\"diane\" [label=\"Diane\", shape=circle]\n",
      "\t\"mark\" [label=\"Mark\", shape=circle]\n",
      "\t\"mary\" [label=\"Mary\", shape=circle]\n",
      "\n",
      "\t\"harry\" -> \"jane\"\n",
      "\t\"harry\" -> \"bill\"\n",
      "\t\"jane\" -> \"diane\"\n",
      "\t\"jane\" -> \"mark\"\n",
      "\t\"diane\" -> \"mary\"\n",
      "}\n"
     ]
    }
   ],
   "source": [
    "tree.to_graphviz()"
   ]
  },
  {
   "cell_type": "code",
   "execution_count": 12,
   "id": "20dd7763",
   "metadata": {},
   "outputs": [
    {
     "name": "stdout",
     "output_type": "stream",
     "text": [
      "     Outlook Temperature Humidity    Wind Answer\n",
      "0      sunny         hot     high    weak     no\n",
      "1      sunny         hot     high  strong     no\n",
      "2   overcast         hot     high    weak    yes\n",
      "3       rain        mild     high    weak    yes\n",
      "4       rain        cool   normal    weak    yes\n",
      "5       rain        cool   normal  strong     no\n",
      "6   overcast        cool   normal  strong    yes\n",
      "7      sunny        mild     high    weak     no\n",
      "8      sunny        cool   normal    weak    yes\n",
      "9       rain        mild   normal    weak    yes\n",
      "10     sunny        mild   normal  strong    yes\n",
      "11  overcast        mild     high  strong    yes\n",
      "12  overcast         hot   normal    weak    yes\n",
      "13      rain        mild     high  strong     no\n",
      "['Outlook', 'Temperature', 'Humidity', 'Wind']\n",
      "\n",
      " Outlook gain = 0.9402859586706309\n",
      "\n",
      "  overcast gain = 0.9402859586706309\n",
      "\n",
      "  rain gain = 0.593517889222535\n",
      "\n",
      "  sunny gain = 0.2467498197744391\n",
      "\n",
      " Temperature gain = 0.9402859586706309\n",
      "\n",
      "  cool gain = 0.7084922088251644\n",
      "\n",
      "  hot gain = 0.4227779231108787\n",
      "\n",
      "  mild gain = 0.029222565658954647\n",
      "\n",
      " Humidity gain = 0.9402859586706309\n",
      "\n",
      "  high gain = 0.4476718906535051\n",
      "\n",
      "  normal gain = 0.15183550136234136\n",
      "\n",
      " Wind gain = 0.9402859586706309\n",
      "\n",
      "  strong gain = 0.5117145300992023\n",
      "\n",
      "  weak gain = 0.04812703040826927\n",
      "\n",
      "Max feature attr Outlook\n",
      "\n",
      " ['overcast' 'rain' 'sunny']\n",
      "\n",
      " overcast\n",
      "\n",
      " rain\n",
      "\n",
      " Temperature gain = 0.9709505944546686\n",
      "\n",
      "  cool gain = 0.5709505944546686\n",
      "\n",
      "  mild gain = 0.01997309402197489\n",
      "\n",
      " Humidity gain = 0.9709505944546686\n",
      "\n",
      "  high gain = 0.5709505944546686\n",
      "\n",
      "  normal gain = 0.01997309402197489\n",
      "\n",
      " Wind gain = 0.9709505944546686\n",
      "\n",
      "  strong gain = 0.9709505944546686\n",
      "\n",
      "  weak gain = 0.9709505944546686\n",
      "\n",
      "Max feature attr Wind\n",
      "\n",
      " ['strong' 'weak']\n",
      "\n",
      " strong\n",
      "\n",
      " weak\n",
      "\n",
      " sunny\n",
      "\n",
      " Temperature gain = 0.9709505944546686\n",
      "\n",
      "  cool gain = 0.9709505944546686\n",
      "\n",
      "  hot gain = 0.9709505944546686\n",
      "\n",
      "  mild gain = 0.5709505944546686\n",
      "\n",
      " Humidity gain = 0.9709505944546686\n",
      "\n",
      "  high gain = 0.9709505944546686\n",
      "\n",
      "  normal gain = 0.9709505944546686\n",
      "\n",
      " Wind gain = 0.9709505944546686\n",
      "\n",
      "  strong gain = 0.5709505944546686\n",
      "\n",
      "  weak gain = 0.01997309402197489\n",
      "\n",
      "Max feature attr Humidity\n",
      "\n",
      " ['high' 'normal']\n",
      "\n",
      " high\n",
      "\n",
      " normal\n",
      "Outlook\n",
      "\tovercast ->  ['yes']\n",
      "\n",
      "\train\n",
      "\t\tWind\n",
      "\t\t\tstrong ->  ['no']\n",
      "\n",
      "\t\t\tweak ->  ['yes']\n",
      "\n",
      "\tsunny\n",
      "\t\tHumidity\n",
      "\t\t\thigh ->  ['no']\n",
      "\n",
      "\t\t\tnormal ->  ['yes']\n",
      "\n"
     ]
    }
   ],
   "source": [
    "import pandas as pd\n",
    "import math\n",
    "import numpy as np\n",
    "\n",
    "data = pd.read_csv('data.csv')\n",
    "features = [feat for feat in data]\n",
    "features.remove('Answer')\n",
    "print(data)\n",
    "print(features)\n",
    "\n",
    "\n",
    "class Node:\n",
    "    def __init__(self):\n",
    "        self.children = []\n",
    "        self.value = \"\"\n",
    "        self.isLeaf = False\n",
    "        self.pred = \"\"\n",
    "\n",
    "def entropy(examples):\n",
    "    pos = 0.0\n",
    "    neg = 0.0\n",
    "    for _, row in examples.iterrows():\n",
    "        if row[\"Answer\"] == \"yes\":\n",
    "            pos += 1\n",
    "        else:\n",
    "            neg += 1\n",
    "    if pos == 0.0 or neg == 0.0:\n",
    "        return 0.0\n",
    "    else:\n",
    "        p = pos / (pos + neg)\n",
    "        n = neg / (pos + neg)\n",
    "        return -(p * math.log(p, 2) + n * math.log(n, 2))\n",
    "\n",
    "def info_gain(examples, attr):\n",
    "    gain = entropy(examples)\n",
    "    print (\"\\n\",attr,\"gain =\",gain)\n",
    "    uniq = np.unique(examples[attr])\n",
    "    \n",
    "    \n",
    "    for u in uniq:\n",
    "        subdata = examples[examples[attr] == u]\n",
    "        #print (\"\\n subdata = \\n\",subdata)\n",
    "        sub_e = entropy(subdata)\n",
    "        gain -= (float(len(subdata)) / float(len(examples))) * sub_e\n",
    "        print (\"\\n \",u,\"gain =\",gain)\n",
    "    return gain\n",
    "\n",
    "\n",
    "def ID3(examples, attrs):\n",
    "    root = Node()\n",
    "\n",
    "    max_gain = 0\n",
    "    max_feat = \"\"\n",
    "    for feature in attrs:\n",
    "        #print (\"\\n\",examples)\n",
    "        gain = info_gain(examples, feature)\n",
    "        if gain > max_gain:\n",
    "            max_gain = gain\n",
    "            max_feat = feature\n",
    "    root.value = max_feat\n",
    "    print (\"\\nMax feature attr\",max_feat)\n",
    "    uniq = np.unique(examples[max_feat])\n",
    "    print (\"\\n\",uniq)\n",
    "    for u in uniq:\n",
    "        print (\"\\n\",u)\n",
    "        subdata = examples[examples[max_feat] == u]\n",
    "        #print (\"\\n\",subdata)\n",
    "        if entropy(subdata) == 0.0:\n",
    "            newNode = Node()\n",
    "            newNode.isLeaf = True\n",
    "            newNode.value = u\n",
    "            newNode.pred = np.unique(subdata[\"Answer\"])\n",
    "            root.children.append(newNode)\n",
    "        else:\n",
    "            dummyNode = Node()\n",
    "            dummyNode.value = u\n",
    "            new_attrs = attrs.copy()\n",
    "            new_attrs.remove(max_feat)\n",
    "            child = ID3(subdata, new_attrs)\n",
    "            dummyNode.children.append(child)\n",
    "            root.children.append(dummyNode)\n",
    "    return root\n",
    "\n",
    "\n",
    "def printTree(root: Node, depth=0):\n",
    "    for i in range(depth):\n",
    "        print(\"\\t\", end=\"\")\n",
    "    print(root.value, end=\"\")\n",
    "    if root.isLeaf:\n",
    "        print(\" -> \", root.pred)\n",
    "    print()\n",
    "    for child in root.children:\n",
    "        printTree(child, depth + 1)\n",
    "\n",
    "\n",
    "\n",
    "root = ID3(data, features)\n",
    "printTree(root)"
   ]
  },
  {
   "cell_type": "code",
   "execution_count": 14,
   "id": "95bf2639",
   "metadata": {},
   "outputs": [
    {
     "data": {
      "text/plain": [
       "[<__main__.Node at 0x1b64345ce80>,\n",
       " <__main__.Node at 0x1b64345c4c0>,\n",
       " <__main__.Node at 0x1b643459cd0>]"
      ]
     },
     "execution_count": 14,
     "metadata": {},
     "output_type": "execute_result"
    }
   ],
   "source": [
    "root.children"
   ]
  },
  {
   "cell_type": "code",
   "execution_count": 20,
   "id": "8ea19aa3",
   "metadata": {},
   "outputs": [],
   "source": [
    "def generateTree(node,actualTree,root,parent):\n",
    "    if root:\n",
    "        actualTree.create_node(node.value,node.value)\n",
    "    else:\n",
    "        actualTree.create_node(node.value,node.value,parent=parent.value)\n",
    "    if node.isLeaf:\n",
    "        actualTree.create_node(node.pred,parent=node.value)\n",
    "    for child in node.children:\n",
    "        generateTree(child,actualTree,False,node)\n",
    "\n",
    "        \n",
    "tree=Tree()\n",
    "generateTree(root,tree,True,root)\n",
    "    "
   ]
  },
  {
   "cell_type": "code",
   "execution_count": 21,
   "id": "92c7dec8",
   "metadata": {},
   "outputs": [
    {
     "name": "stdout",
     "output_type": "stream",
     "text": [
      "Outlook\n",
      "├── overcast\n",
      "│   └── ['yes']\n",
      "├── rain\n",
      "│   └── Wind\n",
      "│       ├── strong\n",
      "│       │   └── ['no']\n",
      "│       └── weak\n",
      "│           └── ['yes']\n",
      "└── sunny\n",
      "    └── Humidity\n",
      "        ├── high\n",
      "        │   └── ['no']\n",
      "        └── normal\n",
      "            └── ['yes']\n",
      "\n"
     ]
    }
   ],
   "source": [
    "tree.show()"
   ]
  },
  {
   "cell_type": "code",
   "execution_count": null,
   "id": "dcff5692",
   "metadata": {},
   "outputs": [],
   "source": []
  }
 ],
 "metadata": {
  "kernelspec": {
   "display_name": "Python 3 (ipykernel)",
   "language": "python",
   "name": "python3"
  },
  "language_info": {
   "codemirror_mode": {
    "name": "ipython",
    "version": 3
   },
   "file_extension": ".py",
   "mimetype": "text/x-python",
   "name": "python",
   "nbconvert_exporter": "python",
   "pygments_lexer": "ipython3",
   "version": "3.8.10"
  }
 },
 "nbformat": 4,
 "nbformat_minor": 5
}
